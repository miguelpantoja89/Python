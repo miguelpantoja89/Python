{
  "nbformat": 4,
  "nbformat_minor": 0,
  "metadata": {
    "colab": {
      "name": "Untitled3.ipynb",
      "version": "0.3.2",
      "provenance": [],
      "collapsed_sections": []
    },
    "kernelspec": {
      "name": "python3",
      "display_name": "Python 3"
    }
  },
  "cells": [
    {
      "cell_type": "markdown",
      "metadata": {
        "id": "Ff1Z1h5yQFMP",
        "colab_type": "text"
      },
      "source": [
        "# **Socket**"
      ]
    },
    {
      "cell_type": "code",
      "metadata": {
        "id": "-G24VPd2BrFs",
        "colab_type": "code",
        "colab": {}
      },
      "source": [
        "import socket\n",
        "\n",
        "mysocket = socket.socket(socket.AF_INET, socket.SOCK_STREAM)\n",
        "\n",
        "mysocket.connect(('www.w3.org', 80))\n",
        "cmd = 'GET https://www.w3.org/TR/PNG/iso_8859-1.txt HTTP/1.0\\r\\n\\r\\n'.encode()\n",
        "mysocket.send(cmd)\n",
        "while True:\n",
        "    data = mysocket.recv(512)\n",
        "    if len(data) < 1:\n",
        "        break\n",
        "    print(data.decode())\n",
        "\n",
        "mysocket.close()"
      ],
      "execution_count": 0,
      "outputs": []
    },
    {
      "cell_type": "markdown",
      "metadata": {
        "id": "kbaL16lpDzlK",
        "colab_type": "text"
      },
      "source": [
        "# **URL LIB**"
      ]
    },
    {
      "cell_type": "code",
      "metadata": {
        "id": "Y-OPKBY7Ciuu",
        "colab_type": "code",
        "colab": {}
      },
      "source": [
        "  import urllib.request as ur\n",
        "  \n",
        "  f = ur.urlopen('https://www.w3.org/TR/PNG/iso_8859-1.txt')\n",
        "  \n",
        "  for line in f:\n",
        "    print(line.decode().strip())"
      ],
      "execution_count": 0,
      "outputs": []
    },
    {
      "cell_type": "markdown",
      "metadata": {
        "id": "1p5ltmD4Pk_P",
        "colab_type": "text"
      },
      "source": [
        "# **BeautifulSoup**\n"
      ]
    },
    {
      "cell_type": "code",
      "metadata": {
        "id": "XUm9My_DLgne",
        "colab_type": "code",
        "colab": {}
      },
      "source": [
        "from bs4 import BeautifulSoup\n",
        "import urllib as ur\n",
        "\n",
        "html = ur.request.urlopen('https://openwebinars.net')\n",
        "\n",
        "soup = BeautifulSoup(html)\n",
        "\n",
        "tags = soup('a')\n",
        "\n",
        "for tag in tags:\n",
        "  print('TAG:', tag)\n",
        "  print('URL:',tag.get('href'))\n",
        "  print('CONTENT:', tag.contents)\n",
        "  print('ATTRIBUTE:', tag.attrs)\n",
        "  print('\\n')"
      ],
      "execution_count": 0,
      "outputs": []
    }
  ]
}