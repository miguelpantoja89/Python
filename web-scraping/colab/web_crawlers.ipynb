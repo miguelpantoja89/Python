{
  "nbformat": 4,
  "nbformat_minor": 0,
  "metadata": {
    "colab": {
      "name": "web_crawlers.ipynb",
      "version": "0.3.2",
      "provenance": [],
      "collapsed_sections": []
    },
    "kernelspec": {
      "name": "python3",
      "display_name": "Python 3"
    }
  },
  "cells": [
    {
      "cell_type": "code",
      "metadata": {
        "id": "tCGnotjNSCLu",
        "colab_type": "code",
        "colab": {}
      },
      "source": [
        "import urllib\n",
        "from bs4 import BeautifulSoup\n",
        "\n",
        "url = 'http://www-math.mit.edu/~gs/'\n",
        "html = urllib.request.urlopen(url)\n",
        "\n",
        "soup = BeautifulSoup(html)\n",
        "\n",
        "tags = soup('a')\n",
        "\n",
        "print(\"Main Page Links: \\r\\n\")\n",
        "\n",
        "for tag in tags:\n",
        "  print(tag.contents[0], tag.get('href'))\n",
        "  print(\"\\n\")\n",
        "\n",
        "print(\"Second Pages Links: \\r\\n\")\n",
        "\n",
        "for tag in tags:\n",
        "  newurl = tag.get('href')\n",
        "  print(\"Accessing to\", newurl)\n",
        "  try:\n",
        "    if newurl[0:4]=='http': html2= urllib.request.urlopen(newurl)  # si la url empieza por http\n",
        "    else: html2 = urllib.request.urlopen(url+newurl)  #si la url es relativa\n",
        "    soup2 = BeautifulSoup(html2)\n",
        "    tags2 = soup2('a')\n",
        "    if len(tags2) >0 :\n",
        "      print (len(tags2),'Enlaces')\n",
        "      for tag2 in tags2:\n",
        "        print(tag.get('href'))\n",
        "        print(\"\\n\")\n",
        "    else:\n",
        "      print(\"No more links\")\n",
        "  except:\n",
        "    print(\"Nice try but something is wrong \\r\\n\")\n",
        "    \n",
        "      \n",
        "      "
      ],
      "execution_count": 0,
      "outputs": []
    }
  ]
}